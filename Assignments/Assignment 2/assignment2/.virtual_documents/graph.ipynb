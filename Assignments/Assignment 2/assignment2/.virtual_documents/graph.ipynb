# Given an array of matrix orders (N), {16, 32, 64, 128, 256, 512, 1024, 2048, 4096, 8192},
# as well as Processor Count (P), {1, 2, 4}, and lastly, efficiency (E) for each combination,
# generate a plot of E vs N for each P.
import sys
import time
import pandas as pd
import matplotlib as mpl
import matplotlib.pyplot as plt
import numpy as np


# Matrix orders
matrix_orders = [16, 32, 64, 128, 256, 512, 1024, 2048, 4096, 8192]

# Processor counts
processor_counts = [1, 2, 4]

# Efficiency values for P = 1 is all 1.0
efficiency_1 = [1.0 for _ in matrix_orders]
efficiency_2 = [0.31, 0.41, 0.5, 0.47, 0.89, 0.97, 0.92, 0.98, 0.97, 1]
efficiency_4 = [0.09, 0.14, 0.12, 0.11, 0.37, 0.63, 0.54, 0.71, 0.94, 0.97]

# Create a DataFrame
data = {
    'N': matrix_orders,
    'P=1': efficiency_1,
    'P=2': efficiency_2,
    'P=4': efficiency_4
}
df = pd.DataFrame(data)


# Create plot with larger figure size
fig, ax = plt.subplots(figsize=(8, 6))

# Rest of the code remains the same
ax.set_xscale('log', base=2)
ax.set_xticks(matrix_orders)
ax.get_xaxis().set_major_formatter(mpl.ticker.ScalarFormatter())
ax.set_xlabel('Matrix Order (N)')
ax.set_ylabel('Efficiency (E)')
ax.set_title('Efficiency vs Matrix Order for Different Processor Counts')

# Format y-axis
ax.yaxis.set_major_formatter(mpl.ticker.FormatStrFormatter('%.2f'))
ax.yaxis.set_major_locator(mpl.ticker.MultipleLocator(base=0.05))

ax.plot(df['N'], df['P=1'], label='P=1', marker='o')
ax.plot(df['N'], df['P=2'], label='P=2', marker='o')
ax.plot(df['N'], df['P=4'], label='P=4', marker='o')

# Add horizontal dotted line
ax.axhline(y=0.85, color='r', linestyle='--')

ax.legend()
plt.savefig('plot.png', dpi=300)  # Increase dpi for better resolution
plt.show()




